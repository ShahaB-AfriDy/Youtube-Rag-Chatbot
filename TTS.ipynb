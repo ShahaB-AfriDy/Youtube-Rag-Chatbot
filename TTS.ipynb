{
 "cells": [
  {
   "cell_type": "code",
   "execution_count": 1,
   "id": "475353a0",
   "metadata": {},
   "outputs": [
    {
     "name": "stdout",
     "output_type": "stream",
     "text": [
      "Global2 kernel and ipykernel 6.30.1 working fine\n"
     ]
    }
   ],
   "source": [
    "print(\"Global2 kernel and ipykernel 6.30.1 working fine\")"
   ]
  },
  {
   "cell_type": "code",
   "execution_count": 2,
   "id": "f5221a9b",
   "metadata": {},
   "outputs": [
    {
     "name": "stdout",
     "output_type": "stream",
     "text": [
      "Langchain version: 0.3.27\n"
     ]
    }
   ],
   "source": [
    "import langchain\n",
    "print(\"Langchain version:\", langchain.__version__)"
   ]
  },
  {
   "cell_type": "code",
   "execution_count": 4,
   "id": "02d8ea68",
   "metadata": {},
   "outputs": [],
   "source": [
    "from langgraph.graph import StateGraph, END\n",
    "from pydantic import BaseModel\n",
    "from typing import List\n",
    "from langchain_core.messages import AnyMessage\n",
    "\n",
    "# ---- Dummy State Model ----\n",
    "class RAGState(BaseModel):\n",
    "    messages: List[AnyMessage] = []\n",
    "    youtube_link: str = \"\"\n",
    "    transcription: str = \"\"\n",
    "    summarized_context: str = \"\"\n",
    "    final_answer: str = \"\"\n",
    "\n",
    "# ---- Dummy Nodes ----\n",
    "def check_url_node(state: RAGState) -> str:\n",
    "    return \"transcribe\"  # or \"not_transcribe\"\n",
    "\n",
    "def transcribe_node(state: RAGState) -> RAGState:\n",
    "    return state\n",
    "\n",
    "def retrieval_node(state: RAGState) -> RAGState:\n",
    "    return state\n",
    "\n",
    "def chat_node(state: RAGState) -> RAGState:\n",
    "    return state\n",
    "\n",
    "# ---- Build Graph ----\n",
    "graph_builder = StateGraph(RAGState)\n",
    "\n",
    "graph_builder.add_node(\"Check_URL_Node\", check_url_node)\n",
    "graph_builder.add_node(\"Transcribe_Node\", transcribe_node)\n",
    "graph_builder.add_node(\"Retrieval_Node\", retrieval_node)\n",
    "graph_builder.add_node(\"Chat_Node\", chat_node)\n",
    "\n",
    "graph_builder.set_entry_point(\"Check_URL_Node\")\n",
    "\n",
    "graph_builder.add_conditional_edges(\n",
    "    source=\"Check_URL_Node\",\n",
    "    path=check_url_node,\n",
    "    path_map={\n",
    "        \"transcribe\": \"Transcribe_Node\",\n",
    "        \"not_transcribe\": \"Retrieval_Node\"\n",
    "    }\n",
    ")\n",
    "\n",
    "graph_builder.add_edge(\"Transcribe_Node\", \"Retrieval_Node\")\n",
    "graph_builder.add_edge(\"Retrieval_Node\", \"Chat_Node\")\n",
    "\n",
    "graph_builder.set_finish_point(\"Chat_Node\")\n",
    "\n",
    "# ---- Compile without checkpoint/store ----\n",
    "graph = graph_builder.compile()\n"
   ]
  },
  {
   "cell_type": "code",
   "execution_count": 5,
   "id": "e1ebe818",
   "metadata": {},
   "outputs": [
    {
     "data": {
      "image/png": "[encoded data removed]",
      "text/plain": [
       "<langgraph.graph.state.CompiledStateGraph object at 0x000001DDAD61D010>"
      ]
     },
     "execution_count": 5,
     "metadata": {},
     "output_type": "execute_result"
    }
   ],
   "source": [
    "graph"
   ]
  },
  {
   "cell_type": "code",
   "execution_count": null,
   "id": "b41c76b7",
   "metadata": {},
   "outputs": [],
   "source": []
  },
  {
   "cell_type": "code",
   "execution_count": null,
   "id": "e11e0f49",
   "metadata": {},
   "outputs": [],
   "source": []
  },
  {
   "cell_type": "code",
   "execution_count": null,
   "id": "4107f31e",
   "metadata": {},
   "outputs": [],
   "source": []
  },
  {
   "cell_type": "code",
   "execution_count": null,
   "id": "60ba25d3",
   "metadata": {},
   "outputs": [],
   "source": [
    "💯 Excellent question — and **you’re absolutely right** to ask this, because how you handle the **`thread_id`** determines how your **checkpointer (memory)** behaves across multiple YouTube videos per user.\n",
    "\n",
    "Let’s break it down very simply 👇\n",
    "\n",
    "---\n",
    "\n",
    "## 🧠 What is `thread_id` in LangGraph?\n",
    "\n",
    "The `thread_id` acts like a **conversation or session ID**.\n",
    "LangGraph uses it to know *“which conversation / flow / memory checkpoint belongs to what.”*\n",
    "\n",
    "---\n",
    "\n",
    "## 🧩 In your case: user + multiple YouTube URLs\n",
    "\n",
    "You have this logic:\n",
    "\n",
    "```python\n",
    "namespace = (user_email, youtube_url)\n",
    "```\n",
    "\n",
    "That ensures each user–video pair is **unique in the vector store** (for retrieval).\n",
    "Now, the **thread_id** should match that same pattern — otherwise, checkpoints (state memory) might mix between different videos.\n",
    "\n",
    "---\n",
    "\n",
    "## ✅ Best Practice\n",
    "\n",
    "Use **1 thread per video per user**, e.g.:\n",
    "\n",
    "```python\n",
    "thread_id = f\"{user_email}_{hash(youtube_url)}\"\n",
    "```\n",
    "\n",
    "or if you want it shorter:\n",
    "\n",
    "```python\n",
    "import hashlib\n",
    "\n",
    "thread_id = hashlib.md5(f\"{user_email}_{youtube_url}\".encode()).hexdigest()\n",
    "```\n",
    "\n",
    "This ensures:\n",
    "\n",
    "* ✅ Each user’s YouTube video transcription has its **own LangGraph state**\n",
    "* ✅ When they transcribe another video, it creates a **new independent session**\n",
    "* ✅ Checkpoints are not mixed between different videos\n",
    "\n",
    "---\n",
    "\n",
    "## 🔧 Example in context\n",
    "\n",
    "Here’s how you’d use it inside your code when running the graph:\n",
    "\n",
    "```python\n",
    "from utils.db import store, checkpointer\n",
    "\n",
    "user_email = \"user@example.com\"\n",
    "youtube_url = \"https://youtube.com/watch?v=abc123\"\n",
    "\n",
    "namespace = (user_email, youtube_url)\n",
    "thread_id = f\"{user_email}_{hash(youtube_url)}\"\n",
    "\n",
    "app = graph.compile(checkpointer=checkpointer)\n",
    "\n",
    "config = {\n",
    "    \"configurable\": {\n",
    "        \"user_id\": user_email,\n",
    "        \"thread_id\": thread_id,  # ✅ important\n",
    "    }\n",
    "}\n",
    "\n",
    "app.invoke({\"youtube_link\": youtube_url}, config=config)\n",
    "```\n",
    "\n",
    "---\n",
    "\n",
    "## 🧩 Visual summary\n",
    "\n",
    "| Concept     | Used For                       | Example                       | Effect                             |\n",
    "| ----------- | ------------------------------ | ----------------------------- | ---------------------------------- |\n",
    "| `namespace` | Vector store grouping          | (`user_email`, `youtube_url`) | Avoids mixing embeddings           |\n",
    "| `thread_id` | Checkpointer memory separation | `\"user@example.com_abc123\"`   | Keeps RAG state isolated per video |\n",
    "| `user_id`   | Identifying the owner          | `\"user@example.com\"`          | Shared across their content        |\n",
    "\n",
    "---\n",
    "\n",
    "So yes — ✅ **each YouTube URL should have its own `thread_id`** for that user.\n",
    "That’s the cleanest and safest setup for multi-video transcription without duplication or confusion.\n",
    "\n",
    "---\n",
    "\n",
    "Would you like me to show you how to modify your **main `RAG-Bot.py`** to automatically generate and pass this `thread_id` per video?\n"
   ]
  },
  {
   "cell_type": "code",
   "execution_count": 5,
   "id": "b0450cf1",
   "metadata": {},
   "outputs": [
    {
     "data": {
      "text/plain": [
       "True"
      ]
     },
     "execution_count": 5,
     "metadata": {},
     "output_type": "execute_result"
    }
   ],
   "source": [
    "import sys\n",
    "import os\n",
    "__file__ = r\"d:\\Programming\\Python in Sublime\\LLM Works\\LangGraph Basic\\Graphs\\Youtube Rag Chatbot\\TTS.ipynb\"\n",
    "sys.path.append(os.path.dirname(os.path.dirname(os.path.abspath(__file__))))\n",
    "\n",
    "from utils.db import store\n",
    "\n",
    "from dotenv import load_dotenv\n",
    "load_dotenv()\n"
   ]
  },
  {
   "cell_type": "code",
   "execution_count": 8,
   "id": "4b99bb18",
   "metadata": {},
   "outputs": [],
   "source": [
    "# Store some documents\n",
    "store.put((\"user_123\", \"conversations\"), key=\"msg1\", value={\"text\": \"How are you?\"},index=['text'])\n",
    "store.put((\"user_123\", \"conversations\"), key=\"msg2\", value={\"text\": \"What's the weather like?\"},index=['text'])\n"
   ]
  },
  {
   "cell_type": "code",
   "execution_count": 25,
   "id": "a5f4ac85",
   "metadata": {},
   "outputs": [
    {
     "name": "stdout",
     "output_type": "stream",
     "text": [
      "Text: How are you?\n"
     ]
    }
   ],
   "source": [
    "\n",
    "# Perform a semantic search\n",
    "results = store.search(\n",
    "    (\"user_123\", \"conversations\"),\n",
    "    filter={\"text\": \"How are you?\"},\n",
    "    limit=2\n",
    ")\n",
    "for result in results:\n",
    "    print(f\"Text: {result.value['text']}\")"
   ]
  }
 ],
 "metadata": {
  "kernelspec": {
   "display_name": "global2",
   "language": "python",
   "name": "python3"
  },
  "language_info": {
   "codemirror_mode": {
    "name": "ipython",
    "version": 3
   },
   "file_extension": ".py",
   "mimetype": "text/x-python",
   "name": "python",
   "nbconvert_exporter": "python",
   "pygments_lexer": "ipython3",
   "version": "3.13.8"
  }
 },
 "nbformat": 4,
 "nbformat_minor": 5
}
